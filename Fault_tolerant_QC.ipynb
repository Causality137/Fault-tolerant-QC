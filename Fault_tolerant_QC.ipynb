{
  "nbformat": 4,
  "nbformat_minor": 0,
  "metadata": {
    "colab": {
      "provenance": []
    },
    "kernelspec": {
      "name": "python3",
      "display_name": "Python 3"
    },
    "language_info": {
      "name": "python"
    }
  },
  "cells": [
    {
      "cell_type": "markdown",
      "source": [
        "# Importing libraries"
      ],
      "metadata": {
        "id": "NhSsdbY6fM5M"
      }
    },
    {
      "cell_type": "code",
      "execution_count": null,
      "metadata": {
        "id": "laiv26BCYxA_"
      },
      "outputs": [],
      "source": [
        "!pip install qiskit[visualization]==1.0.2\n",
        "!pip install qiskit_aer\n",
        "!pip install qiskit_ibm_runtime\n",
        "!pip install matplotlib\n",
        "!pip install pylatexenc\n",
        "!pip install qiskit-transpiler-service"
      ]
    },
    {
      "cell_type": "code",
      "source": [
        "import numpy as np\n",
        "from typing import List, Callable\n",
        "from scipy.optimize import minimize\n",
        "from scipy.optimize._optimize import OptimizeResult\n",
        "import matplotlib.pyplot as plt\n",
        "\n",
        "from qiskit import QuantumCircuit\n",
        "from qiskit_aer import AerSimulator"
      ],
      "metadata": {
        "id": "luNVhW37Y0QW"
      },
      "execution_count": 2,
      "outputs": []
    },
    {
      "cell_type": "code",
      "source": [
        "from qiskit.quantum_info import Statevector\n",
        "from qiskit.primitives import StatevectorSampler"
      ],
      "metadata": {
        "id": "3Jd7Gwg1c4hC"
      },
      "execution_count": 3,
      "outputs": []
    },
    {
      "cell_type": "markdown",
      "source": [
        "# Steane code encoding"
      ],
      "metadata": {
        "id": "lThh13STfWpz"
      }
    },
    {
      "cell_type": "code",
      "source": [
        "qc = QuantumCircuit(7)\n",
        "qc.draw('mpl')"
      ],
      "metadata": {
        "id": "8pj07YzqZUu5"
      },
      "execution_count": null,
      "outputs": []
    },
    {
      "cell_type": "code",
      "source": [
        "qc.h(0)\n",
        "qc.draw('mpl')"
      ],
      "metadata": {
        "id": "LT5s6WtaZiFU"
      },
      "execution_count": null,
      "outputs": []
    },
    {
      "cell_type": "code",
      "source": [
        "qc.h(1)\n",
        "qc.draw('mpl')"
      ],
      "metadata": {
        "id": "DFjMeas2asTi"
      },
      "execution_count": null,
      "outputs": []
    },
    {
      "cell_type": "code",
      "source": [
        "qc.cx(0, 2)\n",
        "qc.cx(1, 2)\n",
        "qc.draw('mpl')"
      ],
      "metadata": {
        "id": "t4qLCjnKb4Yt"
      },
      "execution_count": null,
      "outputs": []
    },
    {
      "cell_type": "code",
      "source": [
        "qc.h(3)\n",
        "qc.draw('mpl')"
      ],
      "metadata": {
        "id": "CzUMgtsMcCES"
      },
      "execution_count": null,
      "outputs": []
    },
    {
      "cell_type": "code",
      "source": [
        "qc.cx(3, 4)\n",
        "qc.draw('mpl')"
      ],
      "metadata": {
        "id": "CzmakMoncPy4"
      },
      "execution_count": null,
      "outputs": []
    },
    {
      "cell_type": "code",
      "source": [
        "qc.cx(3, 5)\n",
        "qc.cx(1, 5)\n",
        "qc.draw('mpl')"
      ],
      "metadata": {
        "id": "TW9V02rUcVZv"
      },
      "execution_count": null,
      "outputs": []
    },
    {
      "cell_type": "code",
      "source": [
        "qc.cx(3, 6)\n",
        "qc.cx(1, 6)\n",
        "qc.cx(0, 6)\n",
        "qc.draw('mpl')"
      ],
      "metadata": {
        "id": "zX03M6jIchBi"
      },
      "execution_count": null,
      "outputs": []
    },
    {
      "cell_type": "code",
      "source": [
        "qc.barrier()\n",
        "qc.draw('mpl')"
      ],
      "metadata": {
        "id": "XTwQOYuIcq-t"
      },
      "execution_count": null,
      "outputs": []
    },
    {
      "cell_type": "code",
      "source": [
        "def Steane(qc):\n",
        "  qc.h(0)\n",
        "  qc.h(1)\n",
        "  qc.cx(0, 2)\n",
        "  qc.cx(1, 2)\n",
        "  qc.h(3)\n",
        "  qc.cx(3, 4)\n",
        "  qc.cx(3, 5)\n",
        "  qc.cx(1, 5)\n",
        "  qc.cx(3, 6)\n",
        "  qc.cx(1, 6)\n",
        "  return qc"
      ],
      "metadata": {
        "id": "2FTlBvo72rn7"
      },
      "execution_count": 13,
      "outputs": []
    },
    {
      "cell_type": "markdown",
      "source": [
        "A function is defined to generate an encoded steane code"
      ],
      "metadata": {
        "id": "YlePxQgT-dt1"
      }
    },
    {
      "cell_type": "code",
      "source": [
        "def Steane(qc):\n",
        "  qc.h(0)\n",
        "  qc.h(1)\n",
        "  qc.cx(0, 2)\n",
        "  qc.cx(1, 2)\n",
        "  qc.h(3)\n",
        "  qc.cx(3, 4)\n",
        "  qc.cx(3, 5)\n",
        "  qc.cx(1, 5)\n",
        "  qc.cx(3, 6)\n",
        "  qc.cx(1, 6)\n",
        "  return qc"
      ],
      "metadata": {
        "id": "-V0PFQGt-gxk"
      },
      "execution_count": 14,
      "outputs": []
    },
    {
      "cell_type": "markdown",
      "source": [
        "# Encoded Z measurement"
      ],
      "metadata": {
        "id": "_6KXC6ZvfdJl"
      }
    },
    {
      "cell_type": "code",
      "source": [
        "for i in range(7):\n",
        "  qc.z(i)\n",
        "qc.measure_all()"
      ],
      "metadata": {
        "id": "WMHcu-bzdS8S"
      },
      "execution_count": 15,
      "outputs": []
    },
    {
      "cell_type": "code",
      "source": [
        "sampler = StatevectorSampler()\n",
        "pub =(qc)\n",
        "job_sampler =sampler.run([pub], shots=1)\n",
        "\n",
        "result_sampler = job_sampler.result()\n",
        "counts_sampler = result_sampler[0].data.meas.get_counts()\n",
        "\n",
        "print(counts_sampler)"
      ],
      "metadata": {
        "id": "esW5WK0BehEl"
      },
      "execution_count": null,
      "outputs": []
    },
    {
      "cell_type": "markdown",
      "source": [
        "# Verification of state"
      ],
      "metadata": {
        "id": "kOa0dyWc-Wzj"
      }
    },
    {
      "cell_type": "code",
      "source": [
        "qc = QuantumCircuit(11)\n",
        "qc = Steane(qc)\n",
        "\n",
        "qc.cx(7, 3)\n",
        "qc.cx(7, 4)\n",
        "qc.cx(7, 5)\n",
        "qc.cx(7, 6)\n",
        "\n",
        "qc.barrier()\n",
        "\n",
        "qc.cx(8, 1)\n",
        "qc.cx(8, 5)\n",
        "qc.cx(8, 6)\n",
        "\n",
        "qc.barrier()\n",
        "\n",
        "qc.cx(9, 1)\n",
        "qc.cx(9, 4)\n",
        "qc.cx(9, 6)\n",
        "\n",
        "qc.barrier()\n",
        "\n",
        "qc.cx(10, 2)\n",
        "qc.cx(10, 4)\n",
        "qc.cx(10, 5)\n",
        "\n",
        "qc.barrier()\n",
        "\n",
        "qc.measure_all()\n",
        "\n",
        "qc.draw('mpl')"
      ],
      "metadata": {
        "id": "oWKYO6bVuUC7"
      },
      "execution_count": null,
      "outputs": []
    },
    {
      "cell_type": "markdown",
      "source": [
        "The last four qubits are the verification qubits. If the code has been properly encoded, the output should be 0000."
      ],
      "metadata": {
        "id": "2a9ZcIEkAecP"
      }
    },
    {
      "cell_type": "code",
      "source": [
        "sampler = StatevectorSampler()\n",
        "pub =(qc)\n",
        "job_sampler =sampler.run([pub], shots=1)\n",
        "\n",
        "result_sampler = job_sampler.result()\n",
        "counts_sampler = result_sampler[0].data.meas.get_counts()\n",
        "\n",
        "print(counts_sampler)"
      ],
      "metadata": {
        "id": "tuk0HN1YxFBz"
      },
      "execution_count": null,
      "outputs": []
    },
    {
      "cell_type": "markdown",
      "source": [
        "# Fault tolerant Pauli Z operator"
      ],
      "metadata": {
        "id": "eoyGBIcIf0K9"
      }
    },
    {
      "cell_type": "code",
      "source": [
        "qc = QuantumCircuit(7)\n",
        "qc = Steane(qc)\n",
        "qc.barrier()"
      ],
      "metadata": {
        "id": "iO58cw4JjGhO"
      },
      "execution_count": null,
      "outputs": []
    },
    {
      "cell_type": "code",
      "source": [
        "for i in range(7):\n",
        "  qc.z(i)"
      ],
      "metadata": {
        "id": "Qhd9XWztfptj"
      },
      "execution_count": 21,
      "outputs": []
    },
    {
      "cell_type": "code",
      "source": [
        "qc.draw('mpl')"
      ],
      "metadata": {
        "id": "ZmjmNiUDrpUR"
      },
      "execution_count": null,
      "outputs": []
    },
    {
      "cell_type": "markdown",
      "source": [
        "# Fault tolerant Pauli X operator"
      ],
      "metadata": {
        "id": "5DeStqalf_gk"
      }
    },
    {
      "cell_type": "code",
      "source": [
        "qc = QuantumCircuit(7)\n",
        "qc = Steane(qc)\n",
        "qc.barrier()"
      ],
      "metadata": {
        "id": "flTHiUnajIKI"
      },
      "execution_count": null,
      "outputs": []
    },
    {
      "cell_type": "code",
      "source": [
        "for i in range(7):\n",
        "  qc.x(i)"
      ],
      "metadata": {
        "id": "1ZFhq0FGf93D"
      },
      "execution_count": 24,
      "outputs": []
    },
    {
      "cell_type": "code",
      "source": [
        "qc.draw('mpl')"
      ],
      "metadata": {
        "id": "qbxaB5VprsPn"
      },
      "execution_count": null,
      "outputs": []
    },
    {
      "cell_type": "markdown",
      "source": [
        "# Fault tolerant Pauli Y operator"
      ],
      "metadata": {
        "id": "su3co_dBgJJI"
      }
    },
    {
      "cell_type": "code",
      "source": [
        "qc = QuantumCircuit(7)\n",
        "qc = Steane(qc)\n",
        "qc.barrier()"
      ],
      "metadata": {
        "id": "deviz_V1jI7t"
      },
      "execution_count": null,
      "outputs": []
    },
    {
      "cell_type": "code",
      "source": [
        "for i in range(7):\n",
        "  qc.y(i)"
      ],
      "metadata": {
        "id": "VVSepD05gHUM"
      },
      "execution_count": 27,
      "outputs": []
    },
    {
      "cell_type": "code",
      "source": [
        "qc.draw('mpl')"
      ],
      "metadata": {
        "id": "-1veXvjRrs2e"
      },
      "execution_count": null,
      "outputs": []
    },
    {
      "cell_type": "markdown",
      "source": [
        "# Fault tolerant Hadamard operator"
      ],
      "metadata": {
        "id": "pGYt6xpfiUq6"
      }
    },
    {
      "cell_type": "code",
      "source": [
        "qc = QuantumCircuit(7)\n",
        "qc = Steane(qc)\n",
        "qc.barrier()"
      ],
      "metadata": {
        "id": "fodw6GIhjJhM"
      },
      "execution_count": null,
      "outputs": []
    },
    {
      "cell_type": "code",
      "source": [
        "for i in range(7):\n",
        "  qc.h(i)"
      ],
      "metadata": {
        "id": "q5VgDoRoiTpC"
      },
      "execution_count": 30,
      "outputs": []
    },
    {
      "cell_type": "code",
      "source": [
        "qc.draw('mpl')"
      ],
      "metadata": {
        "id": "AKOOZtlhrtiX"
      },
      "execution_count": null,
      "outputs": []
    },
    {
      "cell_type": "markdown",
      "source": [
        "# Fault tolerant Phase(S) operator"
      ],
      "metadata": {
        "id": "UvbX9zbYge_L"
      }
    },
    {
      "cell_type": "code",
      "source": [
        "qc = QuantumCircuit(7)\n",
        "qc = Steane(qc)\n",
        "qc.barrier()"
      ],
      "metadata": {
        "id": "jHcSpucHjKDP"
      },
      "execution_count": null,
      "outputs": []
    },
    {
      "cell_type": "code",
      "source": [
        "for i in range(7):\n",
        "  qc.z(i)\n",
        "\n",
        "for i in range(7):\n",
        "  qc.s(i)\n",
        "\n",
        "qc.draw('mpl')"
      ],
      "metadata": {
        "id": "RB0yar99gPg9"
      },
      "execution_count": null,
      "outputs": []
    },
    {
      "cell_type": "markdown",
      "source": [
        "# Fault tolerant CNOT operator"
      ],
      "metadata": {
        "id": "MntzMBPujLxM"
      }
    },
    {
      "cell_type": "code",
      "source": [
        "qc = QuantumCircuit(14)\n",
        "qc = Steane(qc)\n",
        "qc.barrier()\n",
        "qc.h(7)\n",
        "qc.h(8)\n",
        "qc.cx(7, 9)\n",
        "qc.cx(8, 9)\n",
        "qc.h(10)\n",
        "qc.cx(10, 11)\n",
        "qc.cx(10, 12)\n",
        "qc.cx(8, 12)\n",
        "qc.cx(10, 13)\n",
        "qc.cx(8, 13)\n",
        "qc.barrier()\n",
        "for i in range(7):\n",
        "  qc.cx(i, i+7)"
      ],
      "metadata": {
        "id": "KB_LqDT5jKuY"
      },
      "execution_count": 34,
      "outputs": []
    },
    {
      "cell_type": "code",
      "source": [
        "qc.draw('mpl')"
      ],
      "metadata": {
        "id": "4QM4OSXrrunX"
      },
      "execution_count": null,
      "outputs": []
    }
  ]
}